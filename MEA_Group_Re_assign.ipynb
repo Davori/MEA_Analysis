{
  "nbformat": 4,
  "nbformat_minor": 0,
  "metadata": {
    "colab": {
      "name": "MEA_Group Re-assign.ipynb",
      "provenance": [],
      "authorship_tag": "ABX9TyNp63rghBL1N1WL3zt2fETG",
      "include_colab_link": true
    },
    "kernelspec": {
      "name": "python3",
      "display_name": "Python 3"
    }
  },
  "cells": [
    {
      "cell_type": "markdown",
      "metadata": {
        "id": "view-in-github",
        "colab_type": "text"
      },
      "source": [
        "<a href=\"https://colab.research.google.com/github/Davori/MEA_Analysis/blob/main/MEA_Group_Re_assign.ipynb\" target=\"_parent\"><img src=\"https://colab.research.google.com/assets/colab-badge.svg\" alt=\"Open In Colab\"/></a>"
      ]
    },
    {
      "cell_type": "markdown",
      "metadata": {
        "id": "W_WyLrt-jPQG"
      },
      "source": [
        "Mount Google Drive to allow import of data:"
      ]
    },
    {
      "cell_type": "code",
      "metadata": {
        "id": "5uiBv4S9xHu4"
      },
      "source": [
        "from google.colab import drive\n",
        "drive.mount('/content/gdrive/')"
      ],
      "execution_count": null,
      "outputs": []
    },
    {
      "cell_type": "code",
      "metadata": {
        "id": "_ECzJx_WMVT2",
        "colab": {
          "base_uri": "https://localhost:8080/"
        },
        "outputId": "a3d599eb-865d-403e-cd86-ca9c43c7b305"
      },
      "source": [
        "import pandas as pd\n",
        "import numpy as np\n",
        "import matplotlib.pyplot as plt\n",
        "import seaborn as sns\n",
        "import csv\n",
        "import random\n",
        "import string\n",
        "\n",
        "#USER SETTINGS\n",
        "n_groups = 8              # Number of groups to generate\n",
        "inactive_well_cutoff = 0.2   # Mean Firing Rate (Hz) cut-off, <= excluded\n",
        "boxplot = False           # Scatter-plot default, set to True for boxplots\n",
        "rows, cols = 8, 12        # Plate format used to generate wells. 96-well plates are 8*12, 48-well are 4*6, adjust as required\n"
      ],
      "execution_count": null,
      "outputs": [
        {
          "output_type": "stream",
          "text": [
            "Drive already mounted at /content/gdrive/; to attempt to forcibly remount, call drive.mount(\"/content/gdrive/\", force_remount=True).\n"
          ],
          "name": "stdout"
        }
      ]
    },
    {
      "cell_type": "code",
      "metadata": {
        "colab": {
          "base_uri": "https://localhost:8080/"
        },
        "id": "opIqvlXHrVBc",
        "outputId": "24d04e1c-afd8-4409-f005-454ec6ac0d39"
      },
      "source": [
        "basepath = 'gdrive/MyDrive/Example_Data/'\n",
        "file = open(basepath + 'C29_1 Pre-Read(000)_neuralMetrics.csv')\n",
        "neuralmetrics_file = list(csv.reader(file))\n",
        "\n",
        "metric_list=[]\n",
        "for index, item in enumerate(neuralmetrics_file[32]): # Take MFR (index32) from CSV, then add to Dataframe 'df'\n",
        "    if index >= 1:\n",
        "        metric_list.append(float(item))\n",
        "\n",
        "wells = []\n",
        "if len(metric_list) == 48:\n",
        "  rows, cols = 4, 6\n",
        "  for row in string.ascii_uppercase[:rows]:\n",
        "    for column in range(1,cols+1):\n",
        "      wells.append(row+str(column))\n",
        "  df = pd.DataFrame(wells, columns = ['Well'])\n",
        "elif len(metric_list) == 96:\n",
        "  rows,cols = 8, 12\n",
        "  for row in string.ascii_uppercase[:rows]:\n",
        "    for column in range(1,cols+1):\n",
        "      wells.append(row+str(column))\n",
        "  df = pd.DataFrame(wells, columns = ['Well']) \n",
        "else:\n",
        "  print ('There is something wrong with the number of wells in your NeuralMetrics file')\n",
        "\n",
        "df['MFR'] = metric_list\n"
      ],
      "execution_count": null,
      "outputs": [
        {
          "output_type": "stream",
          "text": [
            "   Well\n",
            "0    A1\n",
            "1    A2\n",
            "2    A3\n",
            "3    A4\n",
            "4    A5\n",
            "..  ...\n",
            "91   H8\n",
            "92   H9\n",
            "93  H10\n",
            "94  H11\n",
            "95  H12\n",
            "\n",
            "[96 rows x 1 columns]\n"
          ],
          "name": "stdout"
        }
      ]
    },
    {
      "cell_type": "markdown",
      "metadata": {
        "id": "CSUaoxIekfQ6"
      },
      "source": [
        "# New section"
      ]
    },
    {
      "cell_type": "code",
      "metadata": {
        "colab": {
          "base_uri": "https://localhost:8080/",
          "height": 131
        },
        "id": "YL_dR2LfkKRR",
        "outputId": "347423a6-e19d-455c-fc11-73436bb479c9"
      },
      "source": [
        "\n",
        "\n",
        "file = open(/)\n",
        "\n",
        "wells = []\n",
        "for row in string.ascii_uppercase[:rows]:\n",
        "    for column in range(1,cols+1):\n",
        "        wells.append(row+str(column))\n",
        "\n"
      ],
      "execution_count": null,
      "outputs": [
        {
          "output_type": "error",
          "ename": "SyntaxError",
          "evalue": "ignored",
          "traceback": [
            "\u001b[0;36m  File \u001b[0;32m\"<ipython-input-49-06ad3b6f3001>\"\u001b[0;36m, line \u001b[0;32m11\u001b[0m\n\u001b[0;31m    inactive_well_cutoff =    # Mean Firing Rate (Hz) cut-off, <= excluded\u001b[0m\n\u001b[0m                                                                          ^\u001b[0m\n\u001b[0;31mSyntaxError\u001b[0m\u001b[0;31m:\u001b[0m invalid syntax\n"
          ]
        }
      ]
    },
    {
      "cell_type": "code",
      "metadata": {
        "id": "LxJ9Wr8ile7n"
      },
      "source": [
        ""
      ],
      "execution_count": null,
      "outputs": []
    }
  ]
}